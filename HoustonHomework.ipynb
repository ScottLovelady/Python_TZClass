{
 "cells": [
  {
   "cell_type": "code",
   "execution_count": 43,
   "id": "1d02f9b5",
   "metadata": {},
   "outputs": [],
   "source": [
    "#Requirements of the task:\n",
    "\n",
    "#Create a Python Class that does the following:\n",
    "#The end-user can provide a file path, ingested time zone, converted time zone \n",
    "#* File path: The file path where the JSON file is located.\n",
    "#* Ingested Time Zone: The time zone of the time series inside of the JSON.\n",
    "#* Converted Time Zone: Any time zone that the user wants the time series to be converted.\n",
    "\n",
    "#1. Ingests a JSON file through a user-specified directory path.\n",
    "#2. Parse the JSON to a pd.Dataframe.\n",
    "#3. Create a single time-series plot of two lines, where each line represents a line of the data in a specific time zone. \n",
    "#      For example, one line represents Central Prevailing TIme and the other is the same data in Eastern Prevailing Time. \n",
    "#   3.a: Make sure there's a legend on the graph.\n",
    "#   3.b: Extra points for an interactive graph that allows end-users to zoom into a specific point in time."
   ]
  },
  {
   "cell_type": "code",
   "execution_count": 33,
   "id": "5cd2ec45",
   "metadata": {},
   "outputs": [
    {
     "ename": "AttributeError",
     "evalue": "'Timestamp' object has no attribute 'isna'",
     "output_type": "error",
     "traceback": [
      "\u001b[1;31m---------------------------------------------------------------------------\u001b[0m",
      "\u001b[1;31mAttributeError\u001b[0m                            Traceback (most recent call last)",
      "\u001b[1;32m~\\AppData\\Local\\Temp\\ipykernel_5312\\446073666.py\u001b[0m in \u001b[0;36m<module>\u001b[1;34m\u001b[0m\n\u001b[0;32m     22\u001b[0m \u001b[0mdata\u001b[0m\u001b[1;33m.\u001b[0m\u001b[0mindex\u001b[0m\u001b[1;33m=\u001b[0m\u001b[0mdata\u001b[0m\u001b[1;33m.\u001b[0m\u001b[0mindex\u001b[0m\u001b[1;33m.\u001b[0m\u001b[0mtz_localize\u001b[0m\u001b[1;33m(\u001b[0m\u001b[1;34m'America/New_York'\u001b[0m\u001b[1;33m,\u001b[0m \u001b[0mnonexistent\u001b[0m\u001b[1;33m=\u001b[0m\u001b[1;34m'NaT'\u001b[0m\u001b[1;33m,\u001b[0m \u001b[0mambiguous\u001b[0m\u001b[1;33m=\u001b[0m\u001b[1;34m'NaT'\u001b[0m\u001b[1;33m)\u001b[0m\u001b[1;33m\u001b[0m\u001b[1;33m\u001b[0m\u001b[0m\n\u001b[0;32m     23\u001b[0m \u001b[1;32mfor\u001b[0m \u001b[0mi\u001b[0m \u001b[1;32min\u001b[0m \u001b[0mrange\u001b[0m\u001b[1;33m(\u001b[0m\u001b[1;36m0\u001b[0m\u001b[1;33m,\u001b[0m\u001b[0mlen\u001b[0m\u001b[1;33m(\u001b[0m\u001b[0mdata\u001b[0m\u001b[1;33m)\u001b[0m\u001b[1;33m)\u001b[0m\u001b[1;33m:\u001b[0m\u001b[1;33m\u001b[0m\u001b[1;33m\u001b[0m\u001b[0m\n\u001b[1;32m---> 24\u001b[1;33m     \u001b[1;32mif\u001b[0m \u001b[0mdata\u001b[0m\u001b[1;33m.\u001b[0m\u001b[0miloc\u001b[0m\u001b[1;33m[\u001b[0m\u001b[0mi\u001b[0m\u001b[1;33m,\u001b[0m\u001b[1;36m0\u001b[0m\u001b[1;33m]\u001b[0m\u001b[1;33m.\u001b[0m\u001b[0misna\u001b[0m\u001b[1;33m(\u001b[0m\u001b[1;33m)\u001b[0m \u001b[1;33m==\u001b[0m \u001b[1;32mTrue\u001b[0m\u001b[1;33m:\u001b[0m\u001b[1;33m\u001b[0m\u001b[1;33m\u001b[0m\u001b[0m\n\u001b[0m\u001b[0;32m     25\u001b[0m         \u001b[0mprint\u001b[0m\u001b[1;33m(\u001b[0m\u001b[0mdata\u001b[0m\u001b[1;33m.\u001b[0m\u001b[0mindex\u001b[0m\u001b[1;33m[\u001b[0m\u001b[0mi\u001b[0m\u001b[1;33m]\u001b[0m\u001b[1;33m)\u001b[0m\u001b[1;33m\u001b[0m\u001b[1;33m\u001b[0m\u001b[0m\n",
      "\u001b[1;31mAttributeError\u001b[0m: 'Timestamp' object has no attribute 'isna'"
     ]
    }
   ],
   "source": [
    "import pandas as pd\n",
    "#import json\n",
    "#import numpy as np\n",
    "#import pytz\n",
    "#from datetime import datetime\n",
    "#from datetime import timedelta\n",
    "\n",
    "with open('Timeseries_Consumption.json', 'r') as f:\n",
    "    data=json.loads(f.read())\n",
    "objs=pd.DataFrame()\n",
    "data=data['account']['timeseriesdataidr']\n",
    "for i in range(0,len(data)):\n",
    "    df=pd.json_normalize(data[i]['reads'])\n",
    "    objs=objs.append(df)\n",
    "    ###objs.append(pd.DataFrame(data[i]['reads']))\n",
    "data=objs.copy()\n",
    "###data=pd.concat(objs)\n",
    "data['t']=pd.to_datetime(data['t'])\n",
    "#data['time']=pd.to_datetime(data['t'])\n",
    "#data\n",
    "data.index=data['t']\n",
    "data.index=data.index.tz_localize('America/New_York', nonexistent='NaT', ambiguous='NaT')\n",
    "for i in range(0,len(data)):\n",
    "    if data.iloc[i,0].isna() == True:\n",
    "        print(data.index[i])"
   ]
  },
  {
   "cell_type": "code",
   "execution_count": 26,
   "id": "424d8916",
   "metadata": {},
   "outputs": [
    {
     "ename": "SyntaxError",
     "evalue": "invalid syntax (3285950808.py, line 3)",
     "output_type": "error",
     "traceback": [
      "\u001b[1;36m  File \u001b[1;32m\"C:\\Users\\slovelady.AVTECHCAPITAL\\AppData\\Local\\Temp\\ipykernel_5312\\3285950808.py\"\u001b[1;36m, line \u001b[1;32m3\u001b[0m\n\u001b[1;33m    data[data['v']<=8.337237&&>8.337237]\u001b[0m\n\u001b[1;37m                             ^\u001b[0m\n\u001b[1;31mSyntaxError\u001b[0m\u001b[1;31m:\u001b[0m invalid syntax\n"
     ]
    }
   ],
   "source": [
    "data.index=data.index.astype(str)\n",
    "data[data.index.str.contains('NaT')]"
   ]
  },
  {
   "cell_type": "code",
   "execution_count": null,
   "id": "ee1ebf7d",
   "metadata": {},
   "outputs": [],
   "source": []
  }
 ],
 "metadata": {
  "kernelspec": {
   "display_name": "Python 3 (ipykernel)",
   "language": "python",
   "name": "python3"
  },
  "language_info": {
   "codemirror_mode": {
    "name": "ipython",
    "version": 3
   },
   "file_extension": ".py",
   "mimetype": "text/x-python",
   "name": "python",
   "nbconvert_exporter": "python",
   "pygments_lexer": "ipython3",
   "version": "3.7.1"
  }
 },
 "nbformat": 4,
 "nbformat_minor": 5
}
